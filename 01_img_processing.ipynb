{
 "cells": [
  {
   "cell_type": "code",
   "execution_count": 5,
   "metadata": {},
   "outputs": [],
   "source": [
    "import numpy as np\n",
    "import random\n",
    "import imageio\n"
   ]
  },
  {
   "cell_type": "code",
   "execution_count": 95,
   "metadata": {},
   "outputs": [],
   "source": [
    "#parametros que na entrega devem ser lidos do stdin\n",
    "#gera a imagem 1\n",
    "C = 512\n",
    "Q = 1\n",
    "F = 2\n",
    "N = 256\n",
    "B = 4\n",
    "S = 1"
   ]
  },
  {
   "cell_type": "code",
   "execution_count": 100,
   "metadata": {},
   "outputs": [],
   "source": [
    "#gera imagem 2\n",
    "C = 512\n",
    "Q = 2\n",
    "F = 32\n",
    "N = 256\n",
    "B = 6\n",
    "S = 1\n"
   ]
  },
  {
   "cell_type": "code",
   "execution_count": 103,
   "metadata": {},
   "outputs": [
    {
     "data": {
      "text/plain": [
       "1"
      ]
     },
     "execution_count": 103,
     "metadata": {},
     "output_type": "execute_result"
    }
   ],
   "source": [
    "#gera imagem 3\n",
    "C = 512\n",
    "Q = 1001\n",
    "#F = 32\n",
    "N = 256\n",
    "B = 3\n",
    "S = 1"
   ]
  },
  {
   "cell_type": "code",
   "execution_count": 96,
   "metadata": {},
   "outputs": [],
   "source": [
    "#setting rand seed\n",
    "random.seed(S)"
   ]
  },
  {
   "cell_type": "code",
   "execution_count": 65,
   "metadata": {},
   "outputs": [],
   "source": [
    "def normalize(matrix, start, end):\n",
    "    return (matrix - matrix.min())/(matrix.max() - matrix.min()) * (end-start) + start"
   ]
  },
  {
   "cell_type": "code",
   "execution_count": null,
   "metadata": {},
   "outputs": [],
   "source": [
    "def downsampling(matrix, N):\n",
    "    return matrix[0::N,0::N]"
   ]
  },
  {
   "cell_type": "code",
   "execution_count": 93,
   "metadata": {},
   "outputs": [],
   "source": [
    "def downsampling_quatification(matrix, N, B):\n",
    "    m_normalized = normalize(matrix, 0, 255)\n",
    "    m_normalized = m_normalized.astype(np.uint8)\n",
    "    r_shift = np.right_shift(m_normalized, B)\n",
    "    return np.left_shift(r_shift, B)"
   ]
  },
  {
   "cell_type": "code",
   "execution_count": 30,
   "metadata": {},
   "outputs": [],
   "source": [
    "#\n",
    "def func1(C):\n",
    "    return np.fromfunction(lambda x,y: ((x*y)+ 2*y), (C, C))"
   ]
  },
  {
   "cell_type": "code",
   "execution_count": 35,
   "metadata": {},
   "outputs": [],
   "source": [
    "def func2(C, Q):\n",
    "    return np.fromfunction(lambda x,y,Q: np.absolute(((np.cos(x/Q))+ (2*np.sin(y/Q)))), (C, C), Q = Q)"
   ]
  },
  {
   "cell_type": "code",
   "execution_count": 41,
   "metadata": {},
   "outputs": [],
   "source": [
    "def func3(C, Q):\n",
    "    return np.fromfunction(lambda x,y,Q: np.absolute(((3*(x/Q)) - (np.power((y/Q),(1/3))))), (C, C), Q = Q)"
   ]
  },
  {
   "cell_type": "code",
   "execution_count": 59,
   "metadata": {},
   "outputs": [
    {
     "data": {
      "text/plain": [
       "array([[0.        , 1.        , 1.25992105, 1.44224957],\n",
       "       [3.        , 2.        , 1.74007895, 1.55775043],\n",
       "       [6.        , 5.        , 4.74007895, 4.55775043],\n",
       "       [9.        , 8.        , 7.74007895, 7.55775043]])"
      ]
     },
     "execution_count": 59,
     "metadata": {},
     "output_type": "execute_result"
    }
   ],
   "source": [
    "teste = func3(C, Q)\n",
    "teste"
   ]
  },
  {
   "cell_type": "code",
   "execution_count": 64,
   "metadata": {},
   "outputs": [
    {
     "data": {
      "text/plain": [
       "array([[    0.        ,  7281.66666667,  9174.32511165, 10501.98062112],\n",
       "       [21845.        , 14563.33333333, 12670.67488835, 11343.01937888],\n",
       "       [43690.        , 36408.33333333, 34515.67488835, 33188.01937888],\n",
       "       [65535.        , 58253.33333333, 56360.67488835, 55033.01937888]])"
      ]
     },
     "execution_count": 64,
     "metadata": {},
     "output_type": "execute_result"
    }
   ],
   "source": [
    "normalize(teste, 0, 65535)"
   ]
  },
  {
   "cell_type": "code",
   "execution_count": 105,
   "metadata": {},
   "outputs": [
    {
     "data": {
      "text/plain": [
       "array([[  0,   0,   0, ...,   0,   0,   0],\n",
       "       [  0,   0,   0, ...,   0,   0,   0],\n",
       "       [  0,   0,   0, ...,   0,   0,   0],\n",
       "       ...,\n",
       "       [  0,   0,   0, ..., 248, 248, 248],\n",
       "       [  0,   0,   0, ..., 248, 248, 248],\n",
       "       [  0,   0,   0, ..., 248, 248, 248]], dtype=uint8)"
      ]
     },
     "execution_count": 105,
     "metadata": {},
     "output_type": "execute_result"
    }
   ],
   "source": [
    "m = func1(C)\n",
    "m = normalize(m, 0, 65535)\n",
    "result = downsampling_quatification(m, N, B)\n",
    "imageio.imwrite('image_1.png', result)\n",
    "result"
   ]
  },
  {
   "cell_type": "code",
   "execution_count": 101,
   "metadata": {},
   "outputs": [
    {
     "data": {
      "text/plain": [
       "array([[ 64, 128, 192, ...,  64,   0,   0],\n",
       "       [ 64, 128, 192, ...,  64,   0,  64],\n",
       "       [  0,  64, 128, ...,   0,   0,  64],\n",
       "       ...,\n",
       "       [ 64,   0,   0, ...,  64, 128, 192],\n",
       "       [ 64,   0,  64, ...,  64, 128, 192],\n",
       "       [  0,   0,  64, ...,   0, 128, 128]], dtype=uint8)"
      ]
     },
     "execution_count": 101,
     "metadata": {},
     "output_type": "execute_result"
    }
   ],
   "source": [
    "m = func2(C, Q)\n",
    "m = normalize(m, 0, 65535)\n",
    "result = downsampling_quatification(m, N, B)\n",
    "imageio.imwrite('image_2.png', result)\n",
    "result"
   ]
  },
  {
   "cell_type": "code",
   "execution_count": 104,
   "metadata": {},
   "outputs": [
    {
     "data": {
      "text/plain": [
       "array([[  0,  16,  16, ..., 128, 128, 128],\n",
       "       [  0,  16,  16, ..., 128, 128, 128],\n",
       "       [  0,   8,  16, ..., 128, 128, 128],\n",
       "       ...,\n",
       "       [248, 232, 232, ..., 120, 120, 120],\n",
       "       [248, 232, 232, ..., 120, 120, 120],\n",
       "       [248, 232, 232, ..., 120, 120, 120]], dtype=uint8)"
      ]
     },
     "execution_count": 104,
     "metadata": {},
     "output_type": "execute_result"
    }
   ],
   "source": [
    "m = func3(C, Q)\n",
    "m = normalize(m, 0, 65535)\n",
    "result = downsampling_quatification(m, N, B)\n",
    "imageio.imwrite('image_3.png', result)\n",
    "result"
   ]
  }
 ],
 "metadata": {
  "kernelspec": {
   "display_name": "Python 3",
   "language": "python",
   "name": "python3"
  },
  "language_info": {
   "codemirror_mode": {
    "name": "ipython",
    "version": 3
   },
   "file_extension": ".py",
   "mimetype": "text/x-python",
   "name": "python",
   "nbconvert_exporter": "python",
   "pygments_lexer": "ipython3",
   "version": "3.7.6"
  }
 },
 "nbformat": 4,
 "nbformat_minor": 4
}
