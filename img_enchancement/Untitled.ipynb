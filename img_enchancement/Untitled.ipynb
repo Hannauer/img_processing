{
 "cells": [
  {
   "cell_type": "code",
   "execution_count": 3,
   "metadata": {},
   "outputs": [],
   "source": [
    "import numpy as np\n",
    "import math\n",
    "import random\n",
    "import imageio\n",
    "import matplotlib.pyplot as plt"
   ]
  },
  {
   "cell_type": "code",
   "execution_count": 99,
   "metadata": {},
   "outputs": [],
   "source": [
    "#compute the cumulative histogram\n",
    "def compute_cumulative_hist(img, levels):\n",
    "    hist, _ = np.histogram(img, bins = levels, range = (0, 256), density = False)\n",
    "    #print(_)\n",
    "    return np.cumsum(hist)"
   ]
  },
  {
   "cell_type": "code",
   "execution_count": 100,
   "metadata": {},
   "outputs": [],
   "source": [
    "#compute the cumulative combined histogram\n",
    "def compute_combined_hist(img1, img2, img3, img4):\n",
    "    concat = np.concatenate((img1, img2, img3, img4))\n",
    "    #print(concat.shape)\n",
    "    return compute_cumulative_hist(concat, 256)\n",
    "    \n",
    "     "
   ]
  },
  {
   "cell_type": "code",
   "execution_count": 101,
   "metadata": {},
   "outputs": [],
   "source": [
    "#gamma echacemente\n",
    "def gamma_enchacement(m, lbmda):\n",
    "    return np.floor((255*np.power((m/255), (1/lbmda))))"
   ]
  },
  {
   "cell_type": "code",
   "execution_count": 102,
   "metadata": {},
   "outputs": [],
   "source": [
    "#the enchacemente function for histogram equalization\n",
    "def enchancement(hist, levels, img, echn_type):\n",
    "    if echn_type == 2:\n",
    "        row, col = 1024, 256\n",
    "    else:\n",
    "        row, col = img.shape\n",
    "        \n",
    "    result_img = np.zeros([row,col]).astype(np.uint8)\n",
    "    #print(hist.shape)\n",
    "   #print(hist)\n",
    "    for z in range(levels):\n",
    "        \n",
    "        s = ((levels-1)/float(1024*256))*hist[z]\n",
    "        \n",
    "        result_img[np.where(img == z)] = s\n",
    "       \n",
    "    return result_img"
   ]
  },
  {
   "cell_type": "code",
   "execution_count": 103,
   "metadata": {},
   "outputs": [],
   "source": [
    "#should receiver a img_high argument: the name of the high resolution img to compare\n",
    "def process_pipeline(img_low, echn_type, lbda):\n",
    "    imgs = []\n",
    "\n",
    "    for i in range(0,4):\n",
    "        #print(i)\n",
    "        imgs.append(imageio.imread(f'ImagensParaTestes/{img_low}{i}.png'))\n",
    "    \n",
    "    if (echn_type == 0):\n",
    "        #apply only the super resolution function\n",
    "        pass\n",
    "    \n",
    "    elif(echn_type == 1):\n",
    "        \n",
    "        img1 = enchancement(compute_cumulative_hist(imgs[0], 256), 256, imgs[0], echn_type)\n",
    "        img2 = enchancement(compute_cumulative_hist(imgs[1], 256), 256, imgs[1], echn_type)\n",
    "        img3 = enchancement(compute_cumulative_hist(imgs[2], 256), 256, imgs[2], echn_type)\n",
    "        img4 = enchancement(compute_cumulative_hist(imgs[3], 256), 256, imgs[3], echn_type)\n",
    "        #apply the super resolution function on the 4 imgs\n",
    "        #for now I will return the 4 imgs to test\n",
    "        return img1, img2, img3, img4\n",
    "    elif(echn_type == 2):\n",
    "            \n",
    "        hist = compute_combined_hist(imgs[0], imgs[1], imgs[2], imgs[3])\n",
    "        #print(hist.shape)\n",
    "        \n",
    "        img1 = enchancement(hist, 256, imgs[0], echn_type)\n",
    "        img2 = enchancement(hist, 256, imgs[1], echn_type)\n",
    "        img3 = enchancement(hist, 256, imgs[2], echn_type)\n",
    "        img4 = enchancement(hist, 256, imgs[3], echn_type)\n",
    "        #apply the super resolution function on the 4 imgs\n",
    "        #for now I will return the 4 imgs to test\n",
    "        return img1, img2, img3, img4, hist\n",
    "    elif(echn_type == 3):\n",
    "        img1 = gamma_enchacement(imgs[0], lbda, echn_type)\n",
    "        img2 = gamma_enchacement(imgs[1], lbda, echn_type)\n",
    "        img3 = gamma_enchacement(imgs[2], lbda, echn_type)\n",
    "        img4 = gamma_enchacement(imgs[3], lbda, echn_type)\n",
    "        #apply the super resolution function on the 4 imgs\n",
    "        #for now I will return the 4 imgs to test\n",
    "        return img1, img2, img3, img4\n",
    "    \n",
    "    "
   ]
  },
  {
   "cell_type": "code",
   "execution_count": 104,
   "metadata": {},
   "outputs": [],
   "source": [
    "r1,r2,r3,r4, hist = process_pipeline('08_low', 2, 3.0)"
   ]
  },
  {
   "cell_type": "code",
   "execution_count": 105,
   "metadata": {},
   "outputs": [
    {
     "data": {
      "text/plain": [
       "array([[152, 148, 138, ...,  59,  94, 127],\n",
       "       [148, 145, 135, ...,  60,  92, 127],\n",
       "       [152, 138, 135, ...,  59,  95, 127],\n",
       "       ...,\n",
       "       [  0,   0,   0, ...,   0,   0,   0],\n",
       "       [  0,   0,   0, ...,   0,   0,   0],\n",
       "       [  0,   0,   0, ...,   0,   0,   0]], dtype=uint8)"
      ]
     },
     "execution_count": 105,
     "metadata": {},
     "output_type": "execute_result"
    }
   ],
   "source": [
    "r1"
   ]
  },
  {
   "cell_type": "code",
   "execution_count": 106,
   "metadata": {},
   "outputs": [
    {
     "data": {
      "text/plain": [
       "Array([[152, 148, 138, ...,  59,  94, 127],\n",
       "       [148, 145, 135, ...,  60,  92, 127],\n",
       "       [152, 138, 135, ...,  59,  95, 127],\n",
       "       ...,\n",
       "       [124, 172, 220, ..., 178, 175, 168],\n",
       "       [152, 212, 229, ..., 178, 180, 172],\n",
       "       [200, 220, 219, ..., 178, 178, 180]], dtype=uint8)"
      ]
     },
     "execution_count": 106,
     "metadata": {},
     "output_type": "execute_result"
    }
   ],
   "source": [
    "teste = imageio.imread('08_inter0.png')\n",
    "teste"
   ]
  },
  {
   "cell_type": "code",
   "execution_count": 93,
   "metadata": {},
   "outputs": [],
   "source": [
    "imageio.imwrite('intermed_8.png', teste)"
   ]
  },
  {
   "cell_type": "code",
   "execution_count": null,
   "metadata": {},
   "outputs": [],
   "source": []
  }
 ],
 "metadata": {
  "kernelspec": {
   "display_name": "Python 3",
   "language": "python",
   "name": "python3"
  },
  "language_info": {
   "codemirror_mode": {
    "name": "ipython",
    "version": 3
   },
   "file_extension": ".py",
   "mimetype": "text/x-python",
   "name": "python",
   "nbconvert_exporter": "python",
   "pygments_lexer": "ipython3",
   "version": "3.7.6"
  }
 },
 "nbformat": 4,
 "nbformat_minor": 4
}
