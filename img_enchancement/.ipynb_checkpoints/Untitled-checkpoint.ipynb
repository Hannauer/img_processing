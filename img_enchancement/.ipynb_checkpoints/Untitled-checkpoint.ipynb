{
 "cells": [
  {
   "cell_type": "code",
   "execution_count": 2,
   "metadata": {},
   "outputs": [],
   "source": [
    "import numpy as np\n",
    "import math\n",
    "import random\n",
    "import imageio\n",
    "import matplotlib.pyplot as plt"
   ]
  },
  {
   "cell_type": "code",
   "execution_count": 62,
   "metadata": {},
   "outputs": [],
   "source": [
    "def compute_cumulative_hist(img, levels):\n",
    "    hist, _ = np.histogram(img, bins = levels, density = False)\n",
    "    return np.cumsum(hist)"
   ]
  },
  {
   "cell_type": "code",
   "execution_count": 142,
   "metadata": {},
   "outputs": [],
   "source": [
    "def compute_combined_hist(img1, img2, img3, img4, levels):\n",
    "    concat = np.concatenate((img1, img2, img3, img4))\n",
    "#     hist1 = np.histogram(img1, levels[0])\n",
    "#     hist2 = np.histogram(img2, levels[1])\n",
    "#     hist3 = np.histogram(img3, levels[2])\n",
    "#     hist4 = compute_cumulative_hist(img4, levels[3])\n",
    "    print(concat.max())\n",
    "    return compute_cumulative_hist(concat, 256)\n",
    "    \n",
    "     "
   ]
  },
  {
   "cell_type": "code",
   "execution_count": 1,
   "metadata": {},
   "outputs": [],
   "source": [
    "def gamma_enchacement(m, lbmda):\n",
    "    return np.floor((255*np.power((m/255), (1/lbmda))))"
   ]
  },
  {
   "cell_type": "code",
   "execution_count": 144,
   "metadata": {},
   "outputs": [],
   "source": [
    "def enchancement(hist, levels, img):\n",
    "    row, col = img.shape\n",
    "    result_img = np.zeros([row,col]).astype(np.uint8)\n",
    "    #print(hist.shape)\n",
    "   #print(hist)\n",
    "    for z in range(levels):\n",
    "        \n",
    "        s = ((levels-1)/float(row*col))*hist[z]\n",
    "        \n",
    "        result_img[np.where(img == z)] = s\n",
    "       \n",
    "    return result_img"
   ]
  },
  {
   "cell_type": "code",
   "execution_count": 184,
   "metadata": {},
   "outputs": [],
   "source": [
    "#should receiver a img_high argument: the name of the high resolution img to compare\n",
    "def process_pipeline(img_low, echn_type, lbda):\n",
    "    imgs = []\n",
    "\n",
    "    for i in range(0,4):\n",
    "        print(i)\n",
    "        imgs.append(imageio.imread(f'ImagensParaTestes/{img_low}{i}.png'))\n",
    "    \n",
    "    if (echn_type == 0):\n",
    "        #apply only the super resolution function\n",
    "        pass\n",
    "    \n",
    "    elif(echn_type == 1):\n",
    "        \n",
    "        img1 = enchancement(compute_cumulative_hist(imgs[0], 256), 256, imgs[0])\n",
    "        img2 = enchancement(compute_cumulative_hist(imgs[1], 256), 256, imgs[1])\n",
    "        img3 = enchancement(compute_cumulative_hist(imgs[2], 256), 256, imgs[2])\n",
    "        img4 = enchancement(compute_cumulative_hist(imgs[3], 256), 256, imgs[3])\n",
    "        #apply the super resolution function on the 4 imgs\n",
    "        #for now I will return the 4 imgs to test\n",
    "        return img1, img2, img3, img4\n",
    "    elif(echn_type == 2):\n",
    "            \n",
    "        hist = compute_combined_hist(imgs[0], imgs[1], imgs[2], imgs[3], 256)\n",
    "        print(hist)\n",
    "        \n",
    "        img1 = enchancement(hist, 256, imgs[0])\n",
    "        img2 = enchancement(hist, 256, imgs[1])\n",
    "        img3 = enchancement(hist, 256, imgs[2])\n",
    "        img4 = enchancement(hist, 256, imgs[3])\n",
    "        #apply the super resolution function on the 4 imgs\n",
    "        #for now I will return the 4 imgs to test\n",
    "        return img1, img2, img3, img4\n",
    "    elif(echn_type == 3):\n",
    "        img1 = gamma_enchacement(imgs[0], lbda)\n",
    "        img2 = gamma_enchacement(imgs[1], lbda)\n",
    "        img3 = gamma_enchacement(imgs[2], lbda)\n",
    "        img4 = gamma_enchacement(imgs[3], lbda)\n",
    "        \n",
    "        return img1, img2, img3, img4\n",
    "    \n",
    "    "
   ]
  },
  {
   "cell_type": "code",
   "execution_count": 185,
   "metadata": {},
   "outputs": [
    {
     "name": "stdout",
     "output_type": "stream",
     "text": [
      "0\n",
      "1\n",
      "2\n",
      "3\n",
      "255\n",
      "[     4    135    599   1704   3090   4616   6222   8536  11137  13964\n",
      "  16999  20475  23781  26774  29159  31118  33260  34639  36092  37631\n",
      "  38834  40401  41831  43328  45055  47217  50059  52432  54170  55641\n",
      "  57269  58706  60171  61498  62809  64024  65355  66688  67852  68942\n",
      "  70016  71115  72037  73020  74005  74959  75864  77042  78113  79364\n",
      "  80781  82271  83887  85483  87403  89511  91808  94112  96373  98448\n",
      " 100517 102544 104811 107153 109202 111192 113229 115304 117557 119625\n",
      " 121308 122781 124031 125317 126431 127479 128487 129441 130519 131414\n",
      " 132173 133164 134072 134944 135821 136653 137430 138101 138701 139333\n",
      " 140051 140765 141432 142134 142963 143652 144406 145072 145720 146440\n",
      " 147074 147726 148387 149084 149852 150568 151228 152025 152701 153381\n",
      " 154199 155032 155823 156770 157478 158198 159006 159730 160547 161200\n",
      " 161958 162704 163470 164308 165087 165794 166718 167530 168401 169189\n",
      " 169830 170663 171518 172291 173115 173944 174729 175536 176305 177163\n",
      " 177960 178798 179708 180633 181421 182289 183131 183940 184810 185644\n",
      " 186393 187150 188024 188754 189539 190405 191333 192119 193026 193969\n",
      " 194924 196000 197077 198149 199231 200298 201349 202253 203367 204410\n",
      " 205591 206954 208178 209506 211050 212578 214114 215765 217214 218814\n",
      " 220315 221500 222788 223961 225311 226823 228076 229139 230021 230847\n",
      " 231615 232272 232962 233612 234247 234875 235532 236048 236651 237159\n",
      " 237729 238337 238787 239324 239825 240354 240843 241380 241865 242347\n",
      " 242760 243266 243815 244359 244811 245321 245883 246453 247000 247555\n",
      " 248015 248492 248961 249452 249989 250520 251172 251884 252812 253955\n",
      " 255357 256390 257017 257438 257902 258245 258533 258840 259141 259404\n",
      " 259669 259913 260117 260373 260613 260797 261081 261434 261761 261938\n",
      " 262050 262090 262110 262136 262140 262144]\n"
     ]
    }
   ],
   "source": [
    "r1,r2,r3,r4 = process_pipeline('02_low', 2, 0)"
   ]
  },
  {
   "cell_type": "code",
   "execution_count": 119,
   "metadata": {},
   "outputs": [],
   "source": [
    "imageio.imwrite('intermed_2.png', r1)"
   ]
  },
  {
   "cell_type": "code",
   "execution_count": 181,
   "metadata": {},
   "outputs": [
    {
     "data": {
      "text/plain": [
       "array([[ 71,  27, 193, ...,  35,  39,  35],\n",
       "       [ 23,  27,  83, ...,  43,  43,  39],\n",
       "       [161, 232, 114, ...,  39,  39,  35],\n",
       "       ...,\n",
       "       [157, 140, 129, ...,  33,  33,  33],\n",
       "       [168, 151, 140, ...,  33,  24,  24],\n",
       "       [183, 175, 168, ...,  24,  17,  17]], dtype=uint8)"
      ]
     },
     "execution_count": 181,
     "metadata": {},
     "output_type": "execute_result"
    }
   ],
   "source": [
    "r1"
   ]
  },
  {
   "cell_type": "code",
   "execution_count": 154,
   "metadata": {},
   "outputs": [],
   "source": [
    "imgs = []\n",
    "for i in range(0,4):\n",
    "    imgs.append(imageio.imread(f'ImagensParaTestes/01_low{i}.png'))"
   ]
  },
  {
   "cell_type": "code",
   "execution_count": 157,
   "metadata": {},
   "outputs": [
    {
     "data": {
      "text/plain": [
       "array([[177, 169, 144, ...,  45,  46,  45],\n",
       "       [168, 169, 179, ...,  47,  47,  46],\n",
       "       [134, 156, 185, ...,  46,  46,  45],\n",
       "       ...,\n",
       "       [ 20,  18,  16, ...,   7,   7,   7],\n",
       "       [ 22,  20,  18, ...,   7,   6,   7],\n",
       "       [ 32,  32,  29, ...,   8,   7,   9]], dtype=uint8)"
      ]
     },
     "execution_count": 157,
     "metadata": {},
     "output_type": "execute_result"
    }
   ],
   "source": [
    "concat = np.concatenate((imgs[0], imgs[1], imgs[2], imgs[3]))\n",
    "concat"
   ]
  },
  {
   "cell_type": "code",
   "execution_count": 159,
   "metadata": {},
   "outputs": [
    {
     "data": {
      "text/plain": [
       "Array([[177, 169, 144, ...,  45,  46,  45],\n",
       "       [168, 169, 179, ...,  47,  47,  46],\n",
       "       [134, 156, 185, ...,  46,  46,  45],\n",
       "       ...,\n",
       "       [ 21,  18,  16, ...,   7,   7,   7],\n",
       "       [ 23,  20,  18, ...,   7,   6,   6],\n",
       "       [ 25,  24,  23, ...,   6,   5,   5]], dtype=uint8)"
      ]
     },
     "execution_count": 159,
     "metadata": {},
     "output_type": "execute_result"
    }
   ],
   "source": [
    "imgs[0]"
   ]
  },
  {
   "cell_type": "code",
   "execution_count": 162,
   "metadata": {},
   "outputs": [
    {
     "data": {
      "text/plain": [
       "Array([[177, 169, 144, ...,  45,  46,  45],\n",
       "       [168, 169, 179, ...,  47,  47,  46],\n",
       "       [134, 156, 185, ...,  46,  46,  45],\n",
       "       ...,\n",
       "       [ 21,  18,  16, ...,   7,   7,   7],\n",
       "       [ 23,  20,  18, ...,   7,   6,   6],\n",
       "       [ 25,  24,  23, ...,   6,   5,   5]], dtype=uint8)"
      ]
     },
     "execution_count": 162,
     "metadata": {},
     "output_type": "execute_result"
    }
   ],
   "source": [
    "imgs[1]"
   ]
  },
  {
   "cell_type": "code",
   "execution_count": 174,
   "metadata": {},
   "outputs": [
    {
     "data": {
      "text/plain": [
       "4"
      ]
     },
     "execution_count": 174,
     "metadata": {},
     "output_type": "execute_result"
    }
   ],
   "source": [
    "total = 0\n",
    "num = 0\n",
    "for img in imgs:\n",
    "    total += (img == num).sum()\n",
    "total"
   ]
  },
  {
   "cell_type": "code",
   "execution_count": 173,
   "metadata": {},
   "outputs": [
    {
     "data": {
      "text/plain": [
       "4"
      ]
     },
     "execution_count": 173,
     "metadata": {},
     "output_type": "execute_result"
    }
   ],
   "source": [
    "(concat == 0).sum()"
   ]
  },
  {
   "cell_type": "code",
   "execution_count": 168,
   "metadata": {},
   "outputs": [
    {
     "data": {
      "text/plain": [
       "1526"
      ]
     },
     "execution_count": 168,
     "metadata": {},
     "output_type": "execute_result"
    }
   ],
   "source": [
    "385+385+385+371"
   ]
  },
  {
   "cell_type": "code",
   "execution_count": null,
   "metadata": {},
   "outputs": [],
   "source": [
    "teste = imageio.imread('ImagensParaTestes/01_low0.png')\n",
    "teste"
   ]
  },
  {
   "cell_type": "code",
   "execution_count": 177,
   "metadata": {},
   "outputs": [
    {
     "data": {
      "text/plain": [
       "Array([[209, 198, 176, ...,  72,  73,  72],\n",
       "       [197, 198, 212, ...,  74,  74,  73],\n",
       "       [168, 186, 220, ...,  73,  73,  72],\n",
       "       ...,\n",
       "       [ 39,  35,  32, ...,   8,   8,   8],\n",
       "       [ 42,  37,  35, ...,   8,   6,   6],\n",
       "       [ 45,  43,  42, ...,   6,   4,   4]], dtype=uint8)"
      ]
     },
     "execution_count": 177,
     "metadata": {},
     "output_type": "execute_result"
    }
   ],
   "source": [
    "teste = imageio.imread('02_inter0.png')\n",
    "teste"
   ]
  },
  {
   "cell_type": "code",
   "execution_count": 56,
   "metadata": {},
   "outputs": [
    {
     "data": {
      "text/plain": [
       "255"
      ]
     },
     "execution_count": 56,
     "metadata": {},
     "output_type": "execute_result"
    }
   ],
   "source": [
    "teste.max()"
   ]
  },
  {
   "cell_type": "code",
   "execution_count": 4,
   "metadata": {},
   "outputs": [
    {
     "data": {
      "text/plain": [
       "array([[4, 1, 1, 5, 6],\n",
       "       [0, 5, 0, 1, 5],\n",
       "       [4, 4, 2, 7, 5],\n",
       "       [5, 6, 3, 7, 5],\n",
       "       [4, 1, 6, 1, 4]])"
      ]
     },
     "execution_count": 4,
     "metadata": {},
     "output_type": "execute_result"
    }
   ],
   "source": [
    "A =  np.random.randint(0, 8, [5,5])\n",
    "A"
   ]
  },
  {
   "cell_type": "code",
   "execution_count": 50,
   "metadata": {},
   "outputs": [],
   "source": [
    "teste, _ = np.histogram(A, bins = 8, density = False)"
   ]
  },
  {
   "cell_type": "code",
   "execution_count": 53,
   "metadata": {},
   "outputs": [
    {
     "data": {
      "text/plain": [
       "array([2, 5, 1, 1, 5, 6, 3, 2], dtype=int64)"
      ]
     },
     "execution_count": 53,
     "metadata": {},
     "output_type": "execute_result"
    }
   ],
   "source": [
    "teste"
   ]
  },
  {
   "cell_type": "code",
   "execution_count": 51,
   "metadata": {},
   "outputs": [
    {
     "data": {
      "text/plain": [
       "3"
      ]
     },
     "execution_count": 51,
     "metadata": {},
     "output_type": "execute_result"
    }
   ],
   "source": [
    "(A == 6).sum()"
   ]
  },
  {
   "cell_type": "code",
   "execution_count": 52,
   "metadata": {},
   "outputs": [
    {
     "data": {
      "text/plain": [
       "array([ 2,  7,  8,  9, 14, 20, 23, 25], dtype=int64)"
      ]
     },
     "execution_count": 52,
     "metadata": {},
     "output_type": "execute_result"
    }
   ],
   "source": [
    "np.cumsum(teste)"
   ]
  },
  {
   "cell_type": "code",
   "execution_count": null,
   "metadata": {},
   "outputs": [],
   "source": []
  }
 ],
 "metadata": {
  "kernelspec": {
   "display_name": "Python 3",
   "language": "python",
   "name": "python3"
  },
  "language_info": {
   "codemirror_mode": {
    "name": "ipython",
    "version": 3
   },
   "file_extension": ".py",
   "mimetype": "text/x-python",
   "name": "python",
   "nbconvert_exporter": "python",
   "pygments_lexer": "ipython3",
   "version": "3.7.6"
  }
 },
 "nbformat": 4,
 "nbformat_minor": 4
}
